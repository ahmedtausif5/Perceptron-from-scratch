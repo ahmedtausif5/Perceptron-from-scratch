{
 "cells": [
  {
   "cell_type": "code",
   "execution_count": 2,
   "id": "2e557d11",
   "metadata": {},
   "outputs": [],
   "source": [
    "import numpy as np\n",
    "import pandas as pd\n",
    "import joblib"
   ]
  },
  {
   "cell_type": "code",
   "execution_count": 3,
   "id": "2b7f44db",
   "metadata": {},
   "outputs": [
    {
     "data": {
      "text/plain": [
       "array([-2.22662708e-05, -2.33104394e-04,  6.44810487e-05])"
      ]
     },
     "execution_count": 3,
     "metadata": {},
     "output_type": "execute_result"
    }
   ],
   "source": [
    "np.random.randn(3) * 1e-4"
   ]
  },
  {
   "cell_type": "code",
   "execution_count": 4,
   "id": "0f620cfe",
   "metadata": {},
   "outputs": [],
   "source": [
    "class Perceptron:\n",
    "    \n",
    "    weights = []\n",
    "    eta = 0\n",
    "    epochs = 0\n",
    "    \n",
    "    def __init__(self, eta, epochs):\n",
    "        # initializing small weights\n",
    "        self.weights = np.random.randn(3) * 1e-4 \n",
    "        print(f\"initial weights before training: \\n {self.weights}\")\n",
    "        \n",
    "        # assigning learning rate\n",
    "        self.eta = eta\n",
    "        \n",
    "        # assigning number of epochs\n",
    "        self.epochs = epochs     \n",
    "    \n",
    "    def activationFunction(self, inputs, weights):\n",
    "        # z = w2.x2 + w1.x1 + w0.x0\n",
    "        # z = W*X\n",
    "        z = np.dot(inputs, weights)  \n",
    "        # using stepfunction as activation function\n",
    "        # if z>0, return 1. else return 0\n",
    "        # np.where(condition, if true, else)\n",
    "        return np.where(z>0, 1,0)\n",
    "        \n",
    "        \n",
    "        "
   ]
  },
  {
   "cell_type": "code",
   "execution_count": null,
   "id": "bf916002",
   "metadata": {},
   "outputs": [],
   "source": []
  }
 ],
 "metadata": {
  "kernelspec": {
   "display_name": "Python 3",
   "language": "python",
   "name": "python3"
  },
  "language_info": {
   "codemirror_mode": {
    "name": "ipython",
    "version": 3
   },
   "file_extension": ".py",
   "mimetype": "text/x-python",
   "name": "python",
   "nbconvert_exporter": "python",
   "pygments_lexer": "ipython3",
   "version": "3.8.8"
  }
 },
 "nbformat": 4,
 "nbformat_minor": 5
}
