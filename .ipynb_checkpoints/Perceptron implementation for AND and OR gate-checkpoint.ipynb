{
 "cells": [
  {
   "cell_type": "code",
   "execution_count": 2,
   "id": "7c054346",
   "metadata": {},
   "outputs": [],
   "source": [
    "import numpy as np\n",
    "import pandas as pd\n",
    "import joblib"
   ]
  },
  {
   "cell_type": "code",
   "execution_count": 3,
   "id": "acbe8b5d",
   "metadata": {},
   "outputs": [
    {
     "data": {
      "text/plain": [
       "array([-2.22662708e-05, -2.33104394e-04,  6.44810487e-05])"
      ]
     },
     "execution_count": 3,
     "metadata": {},
     "output_type": "execute_result"
    }
   ],
   "source": [
    "np.random.randn(3) * 1e-4"
   ]
  },
  {
   "cell_type": "code",
   "execution_count": 8,
   "id": "52c72e17",
   "metadata": {},
   "outputs": [],
   "source": [
    "class Perceptron:\n",
    "    \n",
    "    weights = []\n",
    "    eta = 0\n",
    "    epochs = 0\n",
    "    \n",
    "    X = pd.DataFrame()\n",
    "    y = pd.DataFrame()\n",
    "    \n",
    "    error = []\n",
    "    \n",
    "    def __init__(self, eta, epochs):\n",
    "        # initializing small weights\n",
    "        self.weights = np.random.randn(3) * 1e-4 \n",
    "        print(f\"initial weights before training: \\n{self.weights}\")\n",
    "        \n",
    "        # assigning learning rate\n",
    "        self.eta = eta\n",
    "        \n",
    "        # assigning number of epochs\n",
    "        self.epochs = epochs     \n",
    "    \n",
    "    def activationFunction(self, inputs, weights):\n",
    "        # z = w2.x2 + w1.x1 + w0.x0\n",
    "        # z = W*X\n",
    "        z = np.dot(inputs, weights)  \n",
    "        # using stepfunction as activation function\n",
    "        # if z>0, return 1. else return 0\n",
    "        # np.where(condition, if true, else)\n",
    "        return np.where(z>0, 1,0)\n",
    "        \n",
    "    def fit(self, X, y):\n",
    "        self.X = X\n",
    "        self.y = y\n",
    "        \n",
    "        \"\"\"\n",
    "        Example of X:\n",
    "        x1 x2 \n",
    "        0   0\n",
    "        0   1\n",
    "        1   0\n",
    "        1   1\n",
    "        \n",
    "        Example of X_with_bias:\n",
    "        x1 x2 bias\n",
    "        0   0   -1\n",
    "        0   1   -1\n",
    "        1   0   -1\n",
    "        1   1   -1\n",
    "        \n",
    "        X_with_bias is X concatenated with an extra column of -1 \n",
    "        for concatenation, use np.c_[first array, second array]\n",
    "        \"\"\"\n",
    "        \n",
    "        X_with_bias = np.c_[self.X, -np.ones((len(self.X),1))]\n",
    "        print(f\"X_with_bias: \\n{X_with_bias}\")\n",
    "        \n",
    "        for epoch in range(self.epochs):\n",
    "            # printing epoch number\n",
    "            print(\"__\"*10)\n",
    "            print(f\"for epoch: {epoch}\")\n",
    "            print(\"__\"*10)\n",
    "            \n",
    "            # predicting y_hat using current weights\n",
    "            # i.e. forward propagation\n",
    "            y_hat = self.activationFunction(X_with_bias, self.weights)\n",
    "            print(f\"predicted value after forward propagation: \\n{y_hat}\")\n",
    "            \n",
    "            # calculating error by finding the difference between actual y and predicted y\n",
    "            self.error = self.y - y_hat\n",
    "            print(f\"error: \\n{self.error}\")\n",
    "            \n",
    "            # updating weights to adjust with error\n",
    "            # i.e. backward propagation\n",
    "            \n",
    "            # w = w + del(w)\n",
    "            # w = w + (eta * error* x)\n",
    "            # W(3,1) = W(3,1) + eta * error(4,1) * X(4,3)\n",
    "            # W(3,1) = W(3,1) + eta * X.T(3,4) * error(4,1) \n",
    "            self.weights = self.weights + self.eta * np.dot(X_with_bias.T, self.error)\n",
    "            print(f\"updated weights after epoch: \\n{epoch}/{self.epochs} : \\n{self.weights}\")\n",
    "            \n",
    "            print(\"####\"*10)\n",
    "            \n",
    "            \n",
    "    def predict(self, x):\n",
    "        # adding bias to the input as done in the fit function\n",
    "        X_with_bias = np.c_[X, -np.ones((len(X), 1))]\n",
    "        \n",
    "        # returning the dot product of the input with the \"updated\" weights\n",
    "        return self.activationFunction(X_with_bias, self.weights)\n",
    "    \n",
    "    def total_loss(self):\n",
    "        # calculating the total sum of error\n",
    "        total_loss = np.sum(self.error)\n",
    "        print(f\"total loss: \\n {total_loss}\")\n",
    "        \n",
    "        return total_loss\n",
    "        "
   ]
  },
  {
   "cell_type": "code",
   "execution_count": 9,
   "id": "f791a729",
   "metadata": {},
   "outputs": [],
   "source": [
    "def prepare_data(df):\n",
    "    # dropping y_label to form X\n",
    "    X = df.drop(\"y\", axis = 1)\n",
    "    # assigning y_label to form y\n",
    "    y = df[\"y\"]\n",
    "    \n",
    "    return X,y"
   ]
  },
  {
   "cell_type": "code",
   "execution_count": 10,
   "id": "8f12b1bb",
   "metadata": {},
   "outputs": [],
   "source": [
    "# preparing dataframe for AND\n",
    "AND = {\n",
    "    \"x1\": [0, 0, 1, 1],\n",
    "    \"x2\": [0, 1, 0, 1],\n",
    "    \"y\":  [0, 0, 0, 1],\n",
    "}\n",
    "\n",
    "# preparing dataframe for OR\n",
    "OR = {\n",
    "    \"x1\": [0, 0, 1, 1],\n",
    "    \"x2\": [0, 1, 0, 1],\n",
    "    \"y\":  [0, 1, 1, 1],\n",
    "}"
   ]
  },
  {
   "cell_type": "code",
   "execution_count": 11,
   "id": "50e716d4",
   "metadata": {},
   "outputs": [
    {
     "data": {
      "text/html": [
       "<div>\n",
       "<style scoped>\n",
       "    .dataframe tbody tr th:only-of-type {\n",
       "        vertical-align: middle;\n",
       "    }\n",
       "\n",
       "    .dataframe tbody tr th {\n",
       "        vertical-align: top;\n",
       "    }\n",
       "\n",
       "    .dataframe thead th {\n",
       "        text-align: right;\n",
       "    }\n",
       "</style>\n",
       "<table border=\"1\" class=\"dataframe\">\n",
       "  <thead>\n",
       "    <tr style=\"text-align: right;\">\n",
       "      <th></th>\n",
       "      <th>x1</th>\n",
       "      <th>x2</th>\n",
       "      <th>y</th>\n",
       "    </tr>\n",
       "  </thead>\n",
       "  <tbody>\n",
       "    <tr>\n",
       "      <th>0</th>\n",
       "      <td>0</td>\n",
       "      <td>0</td>\n",
       "      <td>0</td>\n",
       "    </tr>\n",
       "    <tr>\n",
       "      <th>1</th>\n",
       "      <td>0</td>\n",
       "      <td>1</td>\n",
       "      <td>0</td>\n",
       "    </tr>\n",
       "    <tr>\n",
       "      <th>2</th>\n",
       "      <td>1</td>\n",
       "      <td>0</td>\n",
       "      <td>0</td>\n",
       "    </tr>\n",
       "    <tr>\n",
       "      <th>3</th>\n",
       "      <td>1</td>\n",
       "      <td>1</td>\n",
       "      <td>1</td>\n",
       "    </tr>\n",
       "  </tbody>\n",
       "</table>\n",
       "</div>"
      ],
      "text/plain": [
       "   x1  x2  y\n",
       "0   0   0  0\n",
       "1   0   1  0\n",
       "2   1   0  0\n",
       "3   1   1  1"
      ]
     },
     "execution_count": 11,
     "metadata": {},
     "output_type": "execute_result"
    }
   ],
   "source": [
    "df = pd.DataFrame(AND)\n",
    "df"
   ]
  },
  {
   "cell_type": "code",
   "execution_count": 15,
   "id": "71b22ecc",
   "metadata": {},
   "outputs": [
    {
     "name": "stdout",
     "output_type": "stream",
     "text": [
      "initial weights before training: \n",
      "[ 9.21894642e-05 -4.12457671e-05 -1.14932002e-04]\n",
      "X_with_bias: \n",
      "[[ 0.  0. -1.]\n",
      " [ 0.  1. -1.]\n",
      " [ 1.  0. -1.]\n",
      " [ 1.  1. -1.]]\n"
     ]
    },
    {
     "ename": "AttributeError",
     "evalue": "'Perceptron' object has no attribute 'epoch'",
     "output_type": "error",
     "traceback": [
      "\u001b[1;31m---------------------------------------------------------------------------\u001b[0m",
      "\u001b[1;31mAttributeError\u001b[0m                            Traceback (most recent call last)",
      "\u001b[1;32m<ipython-input-15-90a5e50fa7ee>\u001b[0m in \u001b[0;36m<module>\u001b[1;34m\u001b[0m\n\u001b[0;32m      5\u001b[0m \u001b[1;33m\u001b[0m\u001b[0m\n\u001b[0;32m      6\u001b[0m \u001b[0mmodel\u001b[0m \u001b[1;33m=\u001b[0m \u001b[0mPerceptron\u001b[0m\u001b[1;33m(\u001b[0m\u001b[0meta\u001b[0m\u001b[1;33m=\u001b[0m\u001b[0mETA\u001b[0m\u001b[1;33m,\u001b[0m \u001b[0mepochs\u001b[0m\u001b[1;33m=\u001b[0m\u001b[0mEPOCHS\u001b[0m\u001b[1;33m)\u001b[0m\u001b[1;33m\u001b[0m\u001b[1;33m\u001b[0m\u001b[0m\n\u001b[1;32m----> 7\u001b[1;33m \u001b[0mmodel\u001b[0m\u001b[1;33m.\u001b[0m\u001b[0mfit\u001b[0m\u001b[1;33m(\u001b[0m\u001b[0mX\u001b[0m\u001b[1;33m,\u001b[0m \u001b[0my\u001b[0m\u001b[1;33m)\u001b[0m\u001b[1;33m\u001b[0m\u001b[1;33m\u001b[0m\u001b[0m\n\u001b[0m\u001b[0;32m      8\u001b[0m \u001b[1;33m\u001b[0m\u001b[0m\n\u001b[0;32m      9\u001b[0m \u001b[0m_\u001b[0m \u001b[1;33m=\u001b[0m \u001b[0mmodel\u001b[0m\u001b[1;33m.\u001b[0m\u001b[0mtotal_loss\u001b[0m\u001b[1;33m(\u001b[0m\u001b[1;33m)\u001b[0m\u001b[1;33m\u001b[0m\u001b[1;33m\u001b[0m\u001b[0m\n",
      "\u001b[1;32m<ipython-input-8-97f4313a0a0e>\u001b[0m in \u001b[0;36mfit\u001b[1;34m(self, X, y)\u001b[0m\n\u001b[0;32m     56\u001b[0m         \u001b[0mprint\u001b[0m\u001b[1;33m(\u001b[0m\u001b[1;34mf\"X_with_bias: \\n{X_with_bias}\"\u001b[0m\u001b[1;33m)\u001b[0m\u001b[1;33m\u001b[0m\u001b[1;33m\u001b[0m\u001b[0m\n\u001b[0;32m     57\u001b[0m \u001b[1;33m\u001b[0m\u001b[0m\n\u001b[1;32m---> 58\u001b[1;33m         \u001b[1;32mfor\u001b[0m \u001b[0mepoch\u001b[0m \u001b[1;32min\u001b[0m \u001b[0mrange\u001b[0m\u001b[1;33m(\u001b[0m\u001b[0mself\u001b[0m\u001b[1;33m.\u001b[0m\u001b[0mepoch\u001b[0m\u001b[1;33m)\u001b[0m\u001b[1;33m:\u001b[0m\u001b[1;33m\u001b[0m\u001b[1;33m\u001b[0m\u001b[0m\n\u001b[0m\u001b[0;32m     59\u001b[0m             \u001b[1;31m# printing epoch number\u001b[0m\u001b[1;33m\u001b[0m\u001b[1;33m\u001b[0m\u001b[1;33m\u001b[0m\u001b[0m\n\u001b[0;32m     60\u001b[0m             \u001b[0mprint\u001b[0m\u001b[1;33m(\u001b[0m\u001b[1;34m\"__\"\u001b[0m\u001b[1;33m*\u001b[0m\u001b[1;36m10\u001b[0m\u001b[1;33m)\u001b[0m\u001b[1;33m\u001b[0m\u001b[1;33m\u001b[0m\u001b[0m\n",
      "\u001b[1;31mAttributeError\u001b[0m: 'Perceptron' object has no attribute 'epoch'"
     ]
    }
   ],
   "source": [
    "X, y = prepare_data(df)\n",
    "\n",
    "ETA = 0.3 # 0 and 1\n",
    "EPOCHS = 10\n",
    "\n",
    "model = Perceptron(eta=ETA, epochs=EPOCHS)\n",
    "model.fit(X, y)\n",
    "\n",
    "_ = model.total_loss()"
   ]
  },
  {
   "cell_type": "code",
   "execution_count": null,
   "id": "6f06c7c0",
   "metadata": {},
   "outputs": [],
   "source": []
  }
 ],
 "metadata": {
  "kernelspec": {
   "display_name": "Python 3",
   "language": "python",
   "name": "python3"
  },
  "language_info": {
   "codemirror_mode": {
    "name": "ipython",
    "version": 3
   },
   "file_extension": ".py",
   "mimetype": "text/x-python",
   "name": "python",
   "nbconvert_exporter": "python",
   "pygments_lexer": "ipython3",
   "version": "3.8.8"
  }
 },
 "nbformat": 4,
 "nbformat_minor": 5
}
