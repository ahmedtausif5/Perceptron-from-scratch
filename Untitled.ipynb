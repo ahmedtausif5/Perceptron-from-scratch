{
 "cells": [
  {
   "cell_type": "code",
   "execution_count": 2,
   "id": "d314ba4c",
   "metadata": {},
   "outputs": [],
   "source": [
    "import numpy as np\n",
    "import pandas as pd\n",
    "import joblib"
   ]
  },
  {
   "cell_type": "code",
   "execution_count": 3,
   "id": "0663cb2b",
   "metadata": {},
   "outputs": [
    {
     "data": {
      "text/plain": [
       "array([-2.22662708e-05, -2.33104394e-04,  6.44810487e-05])"
      ]
     },
     "execution_count": 3,
     "metadata": {},
     "output_type": "execute_result"
    }
   ],
   "source": [
    "np.random.randn(3) * 1e-4"
   ]
  },
  {
   "cell_type": "code",
   "execution_count": 4,
   "id": "2de07562",
   "metadata": {},
   "outputs": [],
   "source": [
    "class Perceptron:\n",
    "    \n",
    "    weights = []\n",
    "    eta = 0\n",
    "    epochs = 0\n",
    "    \n",
    "    X = pd.DataFrame()\n",
    "    y = pd.DataFrame()\n",
    "    \n",
    "    error = []\n",
    "    \n",
    "    def __init__(self, eta, epochs):\n",
    "        # initializing small weights\n",
    "        self.weights = np.random.randn(3) * 1e-4 \n",
    "        print(f\"initial weights before training: \\n{self.weights}\")\n",
    "        \n",
    "        # assigning learning rate\n",
    "        self.eta = eta\n",
    "        \n",
    "        # assigning number of epochs\n",
    "        self.epochs = epochs     \n",
    "    \n",
    "    def activationFunction(self, inputs, weights):\n",
    "        # z = w2.x2 + w1.x1 + w0.x0\n",
    "        # z = W*X\n",
    "        z = np.dot(inputs, weights)  \n",
    "        # using stepfunction as activation function\n",
    "        # if z>0, return 1. else return 0\n",
    "        # np.where(condition, if true, else)\n",
    "        return np.where(z>0, 1,0)\n",
    "        \n",
    "    def fit(self, X, y):\n",
    "        self.X = X\n",
    "        self.y = y\n",
    "        \n",
    "        \"\"\"\n",
    "        Example of X:\n",
    "        x1 x2 \n",
    "        0   0\n",
    "        0   1\n",
    "        1   0\n",
    "        1   1\n",
    "        \n",
    "        Example of X_with_bias:\n",
    "        x1 x2 bias\n",
    "        0   0   -1\n",
    "        0   1   -1\n",
    "        1   0   -1\n",
    "        1   1   -1\n",
    "        \n",
    "        X_with_bias is X concatenated with an extra column of -1 \n",
    "        for concatenation, use np.c_[first array, second array]\n",
    "        \"\"\"\n",
    "        \n",
    "        X_with_bias = np.c_[self.X, -np.ones((len(self.X),1))]\n",
    "        print(f\"X_with_bias: \\n{X_with_bias}\")\n",
    "        \n",
    "        for epoch in range(self.epoch):\n",
    "            # printing epoch number\n",
    "            print(\"__\"*10)\n",
    "            print(f\"for epoch: {epoch}\")\n",
    "            print(\"__\"*10)\n",
    "            \n",
    "            # predicting y_hat using current weights\n",
    "            # i.e. forward propagation\n",
    "            y_hat = self.activationFunction(X_with_bias, self.weights)\n",
    "            print(f\"predicted value after forward propagation: \\n{y_hat}\")\n",
    "            \n",
    "            # calculating error by finding the difference between actual y and predicted y\n",
    "            self.error = self.y - y_hat\n",
    "            print(f\"error: \\n{self.error}\")\n",
    "            \n",
    "        "
   ]
  },
  {
   "cell_type": "code",
   "execution_count": 7,
   "id": "c2789ec5",
   "metadata": {},
   "outputs": [
    {
     "name": "stdout",
     "output_type": "stream",
     "text": [
      "initial weights before training: \n",
      " [-1.82783197e-05 -1.09073045e-04 -1.29737225e-04]\n"
     ]
    },
    {
     "data": {
      "text/plain": [
       "6"
      ]
     },
     "execution_count": 7,
     "metadata": {},
     "output_type": "execute_result"
    }
   ],
   "source": [
    "model = Perceptron(eta=3, epochs=6)\n",
    "model.epochs"
   ]
  },
  {
   "cell_type": "code",
   "execution_count": null,
   "id": "dda4dc34",
   "metadata": {},
   "outputs": [],
   "source": []
  }
 ],
 "metadata": {
  "kernelspec": {
   "display_name": "Python 3",
   "language": "python",
   "name": "python3"
  },
  "language_info": {
   "codemirror_mode": {
    "name": "ipython",
    "version": 3
   },
   "file_extension": ".py",
   "mimetype": "text/x-python",
   "name": "python",
   "nbconvert_exporter": "python",
   "pygments_lexer": "ipython3",
   "version": "3.8.8"
  }
 },
 "nbformat": 4,
 "nbformat_minor": 5
}
